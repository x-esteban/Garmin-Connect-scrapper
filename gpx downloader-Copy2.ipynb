{
 "cells": [
  {
   "cell_type": "markdown",
   "id": "868b8de9",
   "metadata": {},
   "source": [
    "Notebook for downloading *gpx* files."
   ]
  },
  {
   "cell_type": "code",
   "execution_count": 1,
   "id": "c60ccb88",
   "metadata": {},
   "outputs": [],
   "source": [
    "#Importing libraries.\n",
    "\n",
    "import pandas as pd\n",
    "import requests\n",
    "from selenium import webdriver\n",
    "from selenium.webdriver.common.keys import Keys\n",
    "from bs4 import BeautifulSoup\n",
    "import time\n",
    "from selenium.webdriver.common.by import By\n",
    "from selenium.webdriver.support.ui import WebDriverWait\n",
    "from selenium.webdriver.support import expected_conditions as EC\n",
    "from selenium.common.exceptions import TimeoutException"
   ]
  },
  {
   "cell_type": "code",
   "execution_count": 2,
   "id": "01ddf5af",
   "metadata": {},
   "outputs": [],
   "source": [
    "#Loading dataset.\n",
    "\n",
    "links = pd.read_csv('df.csv')"
   ]
  },
  {
   "cell_type": "code",
   "execution_count": 3,
   "id": "bd89cd2f",
   "metadata": {},
   "outputs": [
    {
     "name": "stdout",
     "output_type": "stream",
     "text": [
      "<class 'pandas.core.frame.DataFrame'>\n",
      "RangeIndex: 79275 entries, 0 to 79274\n",
      "Data columns (total 1 columns):\n",
      " #   Column  Non-Null Count  Dtype \n",
      "---  ------  --------------  ----- \n",
      " 0   links   79275 non-null  object\n",
      "dtypes: object(1)\n",
      "memory usage: 619.5+ KB\n"
     ]
    }
   ],
   "source": [
    "#Let's see how many links we have.\n",
    "\n",
    "links.info()"
   ]
  },
  {
   "cell_type": "code",
   "execution_count": 33,
   "id": "c0408021",
   "metadata": {},
   "outputs": [],
   "source": [
    "def downloader(link_list):\n",
    "    start = time.time()\n",
    "    \n",
    "    def gpx_downloader(link):\n",
    "        driver.get(link) #Accessing the route.\n",
    "        time.sleep(2)\n",
    "        try:\n",
    "            wait = WebDriverWait(driver, 15)\n",
    "            condition = EC.element_to_be_clickable((By.XPATH, '//*[@id=\"main-card\"]/div/div[4]/div[1]/div/button'))\n",
    "            element = wait.until(condition)\n",
    "            time.sleep(0.3)\n",
    "            options = driver.find_element_by_xpath('//*[@id=\"main-card\"]/div/div[4]/div[1]/div/button')\n",
    "            options.click()\n",
    "            time.sleep(0.3)\n",
    "            download = driver.find_element_by_xpath('//*[@id=\"main-card\"]/div/div[4]/div[1]/div/ul/li[2]/a')\n",
    "            download.click()\n",
    "        except:\n",
    "            missing_routes.append(i)\n",
    "            pass\n",
    "\n",
    "    \n",
    "    counter = 0\n",
    "    for i in link_list:\n",
    "        if counter == 50:\n",
    "            driver.get('https://www.elperiodico.com/es/')\n",
    "            time.sleep(3)\n",
    "            counter = 0\n",
    "            gpx_downloader(i)\n",
    "        else:\n",
    "            try:\n",
    "                gpx_downloader(i)\n",
    "                counter = counter +1\n",
    "            except:\n",
    "                missing_routes.append(i)\n",
    "                counter = counter + 1\n",
    "                pass\n",
    "            \n",
    "    stop = time.time() \n",
    "    duration = (stop - start) \n",
    "    return print('Seconds:', int(duration))"
   ]
  },
  {
   "cell_type": "code",
   "execution_count": 15,
   "id": "4b6f340e",
   "metadata": {},
   "outputs": [],
   "source": [
    "def downloader_b(link_list):\n",
    "    start = time.time()\n",
    "    \n",
    "    def gpx_downloader(link):\n",
    "        driver.get(link) #Accessing the route.\n",
    "        time.sleep(3)\n",
    "        try:\n",
    "            wait = WebDriverWait(driver, 15)\n",
    "            condition = EC.element_to_be_clickable((By.XPATH, '//*[@id=\"main-card\"]/div/div[4]/div[1]/div/button'))\n",
    "            element = wait.until(condition)\n",
    "            time.sleep(0.3)\n",
    "            options = driver.find_element_by_xpath('//*[@id=\"main-card\"]/div/div[4]/div[1]/div/button')\n",
    "            options.click()\n",
    "            time.sleep(0.3)\n",
    "            download = driver.find_element_by_xpath('//*[@id=\"main-card\"]/div/div[4]/div[1]/div/ul/li[2]/a')\n",
    "            download.click()\n",
    "        except TimeoutException as e:\n",
    "            pass\n",
    "            \n",
    "    \n",
    "    counter = 0\n",
    "    for i in link_list:\n",
    "        if counter == 50:\n",
    "            driver.get('https://www.elperiodico.com/es/')\n",
    "            time.sleep(3)\n",
    "            counter = 0\n",
    "            gpx_downloader(i)\n",
    "        else:\n",
    "            try:\n",
    "                gpx_downloader(i)\n",
    "                counter = counter +1\n",
    "            except:\n",
    "                missing_routes.append(i)\n",
    "                counter = counter + 1\n",
    "                pass\n",
    "            \n",
    "    stop = time.time() \n",
    "    duration = (stop - start) / 60\n",
    "    return print('Minutes:', int(duration))"
   ]
  },
  {
   "cell_type": "code",
   "execution_count": 10,
   "id": "5b72d967",
   "metadata": {},
   "outputs": [],
   "source": [
    "#This function downloads missing routes.\n",
    "\n",
    "def missing_downloader():\n",
    "\n",
    "    def gpx_downloader(link):\n",
    "        driver.get(link) #Accessing the route.\n",
    "        time.sleep(3)\n",
    "        try:\n",
    "            wait = WebDriverWait(driver, 10)\n",
    "            condition = EC.element_to_be_clickable((By.XPATH, '//*[@id=\"main-card\"]/div/div[4]/div[1]/div/button'))\n",
    "            element = wait.until(condition)\n",
    "            options = driver.find_element_by_xpath('//*[@id=\"main-card\"]/div/div[4]/div[1]/div/button')\n",
    "            options.click()\n",
    "            time.sleep(0.3)\n",
    "            download = driver.find_element_by_xpath('//*[@id=\"main-card\"]/div/div[4]/div[1]/div/ul/li[2]/a')\n",
    "            download.click()\n",
    "        except TimeoutException as e:\n",
    "            pass\n",
    "\n",
    "    for i in missing_routes:\n",
    "        try:\n",
    "            gpx_downloader(i)\n",
    "        except:\n",
    "            pass"
   ]
  },
  {
   "cell_type": "code",
   "execution_count": 6,
   "id": "cdf9d0a0",
   "metadata": {},
   "outputs": [],
   "source": [
    "#Making a list with all links from our dataframe.\n",
    "\n",
    "link_list = links['links'].tolist()"
   ]
  },
  {
   "cell_type": "code",
   "execution_count": 7,
   "id": "06f2fe63",
   "metadata": {},
   "outputs": [],
   "source": [
    "#Initializing our webdriver and accessing the Garmin page. At this point we have to login manually.\n",
    "\n",
    "driver = webdriver.Chrome()\n",
    "driver.get('https://connect.garmin.com/modern/')"
   ]
  },
  {
   "cell_type": "code",
   "execution_count": 9,
   "id": "bd8139ba",
   "metadata": {},
   "outputs": [
    {
     "name": "stdout",
     "output_type": "stream",
     "text": [
      "Minutes: 192\n"
     ]
    }
   ],
   "source": [
    "#Running the function.\n",
    "\n",
    "missing_routes = []\n",
    "downloader_b(link_list[7500:8500])\n",
    "missing_downloader()\n",
    "missing_routes = []"
   ]
  },
  {
   "cell_type": "code",
   "execution_count": 11,
   "id": "d15e8882",
   "metadata": {},
   "outputs": [
    {
     "name": "stdout",
     "output_type": "stream",
     "text": [
      "Minutes: 211\n"
     ]
    }
   ],
   "source": [
    "#Running the function.\n",
    "\n",
    "missing_routes = []\n",
    "downloader_b(link_list[14000:16000])\n",
    "missing_downloader()\n",
    "missing_routes = []"
   ]
  },
  {
   "cell_type": "code",
   "execution_count": 17,
   "id": "e3687443",
   "metadata": {},
   "outputs": [
    {
     "name": "stdout",
     "output_type": "stream",
     "text": [
      "Minutes: 335\n"
     ]
    }
   ],
   "source": [
    "missing_routes = []\n",
    "downloader_b(link_list[40110:43000])\n",
    "missing_downloader()\n",
    "missing_routes = []"
   ]
  },
  {
   "cell_type": "markdown",
   "id": "b9957b60",
   "metadata": {},
   "source": [
    "cifyamuydu@biyac.com<br>\n",
    "<br>\n",
    "123456aA"
   ]
  },
  {
   "cell_type": "code",
   "execution_count": null,
   "id": "8e162bd6",
   "metadata": {},
   "outputs": [],
   "source": []
  }
 ],
 "metadata": {
  "kernelspec": {
   "display_name": "Python 3",
   "language": "python",
   "name": "python3"
  },
  "language_info": {
   "codemirror_mode": {
    "name": "ipython",
    "version": 3
   },
   "file_extension": ".py",
   "mimetype": "text/x-python",
   "name": "python",
   "nbconvert_exporter": "python",
   "pygments_lexer": "ipython3",
   "version": "3.8.8"
  },
  "toc": {
   "base_numbering": 1,
   "nav_menu": {},
   "number_sections": true,
   "sideBar": true,
   "skip_h1_title": false,
   "title_cell": "Table of Contents",
   "title_sidebar": "Contents",
   "toc_cell": false,
   "toc_position": {},
   "toc_section_display": true,
   "toc_window_display": false
  },
  "varInspector": {
   "cols": {
    "lenName": 16,
    "lenType": 16,
    "lenVar": 40
   },
   "kernels_config": {
    "python": {
     "delete_cmd_postfix": "",
     "delete_cmd_prefix": "del ",
     "library": "var_list.py",
     "varRefreshCmd": "print(var_dic_list())"
    },
    "r": {
     "delete_cmd_postfix": ") ",
     "delete_cmd_prefix": "rm(",
     "library": "var_list.r",
     "varRefreshCmd": "cat(var_dic_list()) "
    }
   },
   "types_to_exclude": [
    "module",
    "function",
    "builtin_function_or_method",
    "instance",
    "_Feature"
   ],
   "window_display": false
  }
 },
 "nbformat": 4,
 "nbformat_minor": 5
}
