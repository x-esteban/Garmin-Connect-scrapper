{
 "cells": [
  {
   "cell_type": "markdown",
   "id": "868b8de9",
   "metadata": {},
   "source": [
    "Notebook for downloading *gpx* files."
   ]
  },
  {
   "cell_type": "code",
   "execution_count": 1,
   "id": "c60ccb88",
   "metadata": {},
   "outputs": [],
   "source": [
    "#Importing libraries.\n",
    "\n",
    "import pandas as pd\n",
    "import requests\n",
    "from selenium import webdriver\n",
    "from selenium.webdriver.common.keys import Keys\n",
    "from bs4 import BeautifulSoup\n",
    "import time\n",
    "from selenium.webdriver.common.by import By\n",
    "from selenium.webdriver.support.ui import WebDriverWait\n",
    "from selenium.webdriver.support import expected_conditions as EC"
   ]
  },
  {
   "cell_type": "code",
   "execution_count": 2,
   "id": "01ddf5af",
   "metadata": {},
   "outputs": [],
   "source": [
    "#Loading dataset.\n",
    "\n",
    "links = pd.read_csv('links.csv')"
   ]
  },
  {
   "cell_type": "code",
   "execution_count": 3,
   "id": "3bcad6be",
   "metadata": {},
   "outputs": [],
   "source": [
    "#Dropping duplicates.\n",
    "\n",
    "links = links.drop_duplicates(subset=['links'])"
   ]
  },
  {
   "cell_type": "code",
   "execution_count": 4,
   "id": "bd89cd2f",
   "metadata": {},
   "outputs": [
    {
     "name": "stdout",
     "output_type": "stream",
     "text": [
      "<class 'pandas.core.frame.DataFrame'>\n",
      "Int64Index: 38178 entries, 0 to 49086\n",
      "Data columns (total 1 columns):\n",
      " #   Column  Non-Null Count  Dtype \n",
      "---  ------  --------------  ----- \n",
      " 0   links   38178 non-null  object\n",
      "dtypes: object(1)\n",
      "memory usage: 596.5+ KB\n"
     ]
    }
   ],
   "source": [
    "#Let's see how many links we have.\n",
    "\n",
    "links.info()"
   ]
  },
  {
   "cell_type": "code",
   "execution_count": 18,
   "id": "4c3e88b4",
   "metadata": {},
   "outputs": [],
   "source": [
    "#Importing our downloader function from the previous notebook.\n",
    "\n",
    "def downloader(link_list):\n",
    "    start = time.time()\n",
    "\n",
    "    def gpx_downloader(link):\n",
    "        driver.get(link) #Accessing the route.\n",
    "        time.sleep(3)\n",
    "        options = driver.find_element_by_xpath('//*[@id=\"main-card\"]/div/div[4]/div[1]/div/button')\n",
    "        options.click()\n",
    "        time.sleep(0.3)\n",
    "        download = driver.find_element_by_xpath('//*[@id=\"main-card\"]/div/div[4]/div/div/ul/li[1]/a')\n",
    "        download.click()\n",
    "\n",
    "    for i in link_list:\n",
    "        try:\n",
    "            gpx_downloader(i)\n",
    "        except:\n",
    "            missing_routes.append(i)\n",
    "            pass\n",
    "\n",
    "    stop = time.time() \n",
    "    duration = (stop - start) / 60\n",
    "    return print('Minutes:', int(duration))"
   ]
  },
  {
   "cell_type": "code",
   "execution_count": 16,
   "id": "c0408021",
   "metadata": {},
   "outputs": [],
   "source": [
    "def downloader_b(link_list):\n",
    "    start = time.time()\n",
    "\n",
    "    def gpx_downloader(link):\n",
    "        driver.get(link) #Accessing the route.\n",
    "        try:\n",
    "            wait = WebDriverWait(driver, 10)\n",
    "            condition = EC.element_to_be_clickable((By.XPATH, '//*[@id=\"main-card\"]/div/div[4]/div[1]/div/button'))\n",
    "            element = wait.until(condition)\n",
    "            options = driver.find_element_by_xpath('//*[@id=\"main-card\"]/div/div[4]/div[1]/div/button')\n",
    "            options.click()\n",
    "            time.sleep(0.3)\n",
    "            download = driver.find_element_by_xpath('//*[@id=\"main-card\"]/div/div[4]/div/div/ul/li[1]/a')\n",
    "            download.click()\n",
    "        except TimeoutException as e:\n",
    "            pass\n",
    "\n",
    "    for i in link_list:\n",
    "        try:\n",
    "            gpx_downloader(i)\n",
    "        except:\n",
    "            missing_routes.append(i)\n",
    "            pass\n",
    "\n",
    "    stop = time.time() \n",
    "    duration = (stop - start) / 60\n",
    "    return print('Minutes:', int(duration))"
   ]
  },
  {
   "cell_type": "code",
   "execution_count": 6,
   "id": "cdf9d0a0",
   "metadata": {},
   "outputs": [],
   "source": [
    "#Making a list with all links from our dataframe.\n",
    "\n",
    "link_list = links['links'].tolist()"
   ]
  },
  {
   "cell_type": "code",
   "execution_count": 7,
   "id": "06f2fe63",
   "metadata": {},
   "outputs": [],
   "source": [
    "#Initializing our webdriver and accessing the Garmin page. At this point we have to login manually.\n",
    "\n",
    "driver = webdriver.Chrome()\n",
    "driver.get('https://connect.garmin.com/modern/')"
   ]
  },
  {
   "cell_type": "code",
   "execution_count": null,
   "id": "ac5edb55",
   "metadata": {},
   "outputs": [],
   "source": [
    "#Running the function on the first 100 links.\n",
    "\n",
    "downloader_b(link_list[:50])"
   ]
  },
  {
   "cell_type": "code",
   "execution_count": 13,
   "id": "6b129d77",
   "metadata": {},
   "outputs": [
    {
     "data": {
      "text/plain": [
       "['https://connect.garmin.com/modern/course/16325392',\n",
       " 'https://connect.garmin.com/modern/course/73112485',\n",
       " 'https://connect.garmin.com/modern/course/73112485',\n",
       " 'https://connect.garmin.com/modern/course/64440760',\n",
       " 'https://connect.garmin.com/modern/course/64440760',\n",
       " 'https://connect.garmin.com/modern/course/8694214',\n",
       " 'https://connect.garmin.com/modern/course/5046491',\n",
       " 'https://connect.garmin.com/modern/course/7369950',\n",
       " 'https://connect.garmin.com/modern/course/47672825',\n",
       " 'https://connect.garmin.com/modern/course/1645995',\n",
       " 'https://connect.garmin.com/modern/course/1645995',\n",
       " 'https://connect.garmin.com/modern/course/23825646',\n",
       " 'https://connect.garmin.com/modern/course/32679408',\n",
       " 'https://connect.garmin.com/modern/course/321745',\n",
       " 'https://connect.garmin.com/modern/course/73057964',\n",
       " 'https://connect.garmin.com/modern/course/18936999',\n",
       " 'https://connect.garmin.com/modern/course/73393666',\n",
       " 'https://connect.garmin.com/modern/course/6683271',\n",
       " 'https://connect.garmin.com/modern/course/10449009',\n",
       " 'https://connect.garmin.com/modern/course/58024120',\n",
       " 'https://connect.garmin.com/modern/course/1845420',\n",
       " 'https://connect.garmin.com/modern/course/18785951',\n",
       " 'https://connect.garmin.com/modern/course/51679346',\n",
       " 'https://connect.garmin.com/modern/course/4222518']"
      ]
     },
     "execution_count": 13,
     "metadata": {},
     "output_type": "execute_result"
    }
   ],
   "source": [
    "missing_routes"
   ]
  },
  {
   "cell_type": "code",
   "execution_count": 10,
   "id": "0f8d164e",
   "metadata": {},
   "outputs": [
    {
     "data": {
      "text/plain": [
       "10"
      ]
     },
     "execution_count": 10,
     "metadata": {},
     "output_type": "execute_result"
    }
   ],
   "source": [
    "len(link_list[:10])"
   ]
  },
  {
   "cell_type": "code",
   "execution_count": null,
   "id": "619c0ba9",
   "metadata": {},
   "outputs": [],
   "source": []
  }
 ],
 "metadata": {
  "kernelspec": {
   "display_name": "Python 3",
   "language": "python",
   "name": "python3"
  },
  "language_info": {
   "codemirror_mode": {
    "name": "ipython",
    "version": 3
   },
   "file_extension": ".py",
   "mimetype": "text/x-python",
   "name": "python",
   "nbconvert_exporter": "python",
   "pygments_lexer": "ipython3",
   "version": "3.8.8"
  },
  "toc": {
   "base_numbering": 1,
   "nav_menu": {},
   "number_sections": true,
   "sideBar": true,
   "skip_h1_title": false,
   "title_cell": "Table of Contents",
   "title_sidebar": "Contents",
   "toc_cell": false,
   "toc_position": {},
   "toc_section_display": true,
   "toc_window_display": false
  },
  "varInspector": {
   "cols": {
    "lenName": 16,
    "lenType": 16,
    "lenVar": 40
   },
   "kernels_config": {
    "python": {
     "delete_cmd_postfix": "",
     "delete_cmd_prefix": "del ",
     "library": "var_list.py",
     "varRefreshCmd": "print(var_dic_list())"
    },
    "r": {
     "delete_cmd_postfix": ") ",
     "delete_cmd_prefix": "rm(",
     "library": "var_list.r",
     "varRefreshCmd": "cat(var_dic_list()) "
    }
   },
   "types_to_exclude": [
    "module",
    "function",
    "builtin_function_or_method",
    "instance",
    "_Feature"
   ],
   "window_display": false
  }
 },
 "nbformat": 4,
 "nbformat_minor": 5
}
