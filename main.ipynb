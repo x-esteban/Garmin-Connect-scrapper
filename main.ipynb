{
 "cells": [
  {
   "cell_type": "markdown",
   "id": "c50bfda3",
   "metadata": {},
   "source": [
    "# Strava scraper"
   ]
  },
  {
   "cell_type": "markdown",
   "id": "b36a36d9",
   "metadata": {},
   "source": [
    "This is the first attempt at scraping all cycling routes posted on strava located in **Spain**. We only need to download the *gpx* files."
   ]
  },
  {
   "cell_type": "code",
   "execution_count": 1,
   "id": "6838b72e",
   "metadata": {},
   "outputs": [],
   "source": [
    "#Importing libraries.\n",
    "\n",
    "import pandas as pd\n",
    "import requests\n",
    "from selenium import webdriver\n",
    "from selenium.webdriver.common.keys import Keys\n",
    "from bs4 import BeautifulSoup\n",
    "import time\n",
    "from selenium.webdriver.common.by import By\n",
    "from selenium.webdriver.support.ui import WebDriverWait\n",
    "from selenium.webdriver.support import expected_conditions as EC"
   ]
  },
  {
   "cell_type": "code",
   "execution_count": 5,
   "id": "c5a317e7",
   "metadata": {},
   "outputs": [],
   "source": [
    "#Initializing our webdriver (Chrome).\n",
    "\n",
    "driver = webdriver.Chrome()"
   ]
  },
  {
   "cell_type": "code",
   "execution_count": 44,
   "id": "ab94bf31",
   "metadata": {},
   "outputs": [],
   "source": [
    "#Entering a ride.\n",
    "\n",
    "driver.get('https://www.strava.com/activities/5798394213')"
   ]
  },
  {
   "cell_type": "code",
   "execution_count": 8,
   "id": "0643e949",
   "metadata": {},
   "outputs": [],
   "source": [
    "#Clicking the three-dot menu.\n",
    "\n",
    "menu = driver.find_element_by_xpath('/html/body/div[2]/div[3]/nav/div/div')\n",
    "menu.click()"
   ]
  },
  {
   "cell_type": "code",
   "execution_count": 9,
   "id": "efcc238a",
   "metadata": {},
   "outputs": [],
   "source": [
    "#Downloading the gpx.\n",
    "\n",
    "gpx = driver.find_element_by_xpath('/html/body/div[2]/div[3]/nav/div/div/ul/li[3]')\n",
    "gpx.click()"
   ]
  },
  {
   "cell_type": "code",
   "execution_count": 39,
   "id": "45e34f7c",
   "metadata": {},
   "outputs": [
    {
     "data": {
      "text/plain": [
       "'Bicicleta'"
      ]
     },
     "execution_count": 39,
     "metadata": {},
     "output_type": "execute_result"
    }
   ],
   "source": [
    "#Obtaining the ride type. This will only match \"Bicicleta\" if it's a bike ride.\n",
    "\n",
    "ridetype = driver.find_element_by_xpath('//*[@id=\"heading\"]/header/h2/span').text[-9:]\n",
    "ridetype"
   ]
  },
  {
   "cell_type": "code",
   "execution_count": 28,
   "id": "bf729944",
   "metadata": {},
   "outputs": [
    {
     "data": {
      "text/plain": [
       "'Londres, Reino Unido'"
      ]
     },
     "execution_count": 28,
     "metadata": {},
     "output_type": "execute_result"
    }
   ],
   "source": [
    "#Obtaining the location:\n",
    "\n",
    "location = driver.find_element_by_xpath('//*[@id=\"heading\"]/div/div/div[1]/div/div/span').text\n",
    "location"
   ]
  },
  {
   "cell_type": "code",
   "execution_count": null,
   "id": "c93d8184",
   "metadata": {},
   "outputs": [],
   "source": [
    "#Naming schema for download links.\n",
    "\n",
    "'http://strava.com/activities/5798394100/export_gpx'"
   ]
  },
  {
   "cell_type": "markdown",
   "id": "be07489b",
   "metadata": {},
   "source": [
    "Names of spanish CCAAs (or other territories) as they are used on **Strava**:\n",
    "\n",
    "España\n",
    "Asturias\n",
    "Cataluña\n",
    "Madrid\n",
    "Aragón\n",
    "La Rioja\n"
   ]
  },
  {
   "cell_type": "code",
   "execution_count": 84,
   "id": "40895ea6",
   "metadata": {},
   "outputs": [],
   "source": [
    "#Making a list of the names we want to detect:\n",
    "\n",
    "names = ['España', 'Asturias', 'Cataluña', 'Madrid', 'Aragón', 'La Rioja', 'Andalucía', 'Comunidad Valenciana', 'Andorra']"
   ]
  },
  {
   "cell_type": "code",
   "execution_count": 82,
   "id": "bf7c4e19",
   "metadata": {},
   "outputs": [
    {
     "name": "stdout",
     "output_type": "stream",
     "text": [
      "Minutes: 8.989719223976135\n"
     ]
    }
   ],
   "source": [
    "start = time.time()\n",
    "\n",
    "for i in range(10):\n",
    "    try:\n",
    "        base_url = 'https://www.strava.com/activities/'\n",
    "        base_number = 3981642097\n",
    "        url = base_url + str((base_number + i))\n",
    "        time.sleep(0.1)\n",
    "        driver.get(url)\n",
    "        time.sleep(0.1)\n",
    "        if driver.find_element_by_xpath('//*[@id=\"heading\"]/header/h2/span').text[-9:] == 'Bicicleta':\n",
    "            for i in names:\n",
    "                if i in driver.find_element_by_xpath('//*[@id=\"heading\"]/div/div/div[1]/div/div/span').text:\n",
    "                    gpx_url = url + '/export_gpx'\n",
    "                    driver.get(gpx_url)\n",
    "                    time.sleep(0.1)\n",
    "                else:\n",
    "                    pass\n",
    "        else:\n",
    "            pass\n",
    "    except:\n",
    "        pass\n",
    "    \n",
    "stop = time.time() \n",
    "duration = (stop - start) / 60\n",
    "print('Minutes:', duration)"
   ]
  },
  {
   "cell_type": "markdown",
   "id": "5e668a3a",
   "metadata": {},
   "source": [
    "While this worked, **Strava**'s daily download limit is too harsh for ur purposes. Therefore we will be trying our luck with **Garmin Connect** instead."
   ]
  },
  {
   "cell_type": "markdown",
   "id": "34650af1",
   "metadata": {},
   "source": [
    "# Garmin Connect scraper"
   ]
  },
  {
   "cell_type": "markdown",
   "id": "f690a24e",
   "metadata": {},
   "source": [
    "**Garmin Connect** offers a map of user-submitted routes which we can easily filter. Those routes can be accessed by searching for the location (town name). Let's try downloading the *gpx* files for some routes to see if **Garmin** has implemented scraping protection on its website."
   ]
  },
  {
   "cell_type": "code",
   "execution_count": 2,
   "id": "929b3117",
   "metadata": {},
   "outputs": [],
   "source": [
    "#Initializing our webdriver (Chrome).\n",
    "\n",
    "driver = webdriver.Chrome()"
   ]
  },
  {
   "cell_type": "code",
   "execution_count": 3,
   "id": "7fabcdfc",
   "metadata": {},
   "outputs": [],
   "source": [
    "#Accessing Garmin Connect. At this point we will have to login manually.\n",
    "\n",
    "driver.get('https://connect.garmin.com/modern/')"
   ]
  },
  {
   "cell_type": "code",
   "execution_count": 12,
   "id": "aa0f36e4",
   "metadata": {},
   "outputs": [],
   "source": [
    "#Accessing the activity map.\n",
    "\n",
    "driver.get('https://connect.garmin.com/modern/courses')"
   ]
  },
  {
   "cell_type": "markdown",
   "id": "8414f1be",
   "metadata": {},
   "source": [
    "At this stage I'm setting the activity filters manually, since we're only testing the viability of large-scale *gpx* scraping."
   ]
  },
  {
   "cell_type": "code",
   "execution_count": 13,
   "id": "21fd06eb",
   "metadata": {},
   "outputs": [],
   "source": [
    "#Clicking on the search box.\n",
    "\n",
    "searchbox = driver.find_element_by_xpath('//*[@id=\"pageContainer\"]/div/div[2]/div[1]/div[1]/input')\n",
    "searchbox.click()"
   ]
  },
  {
   "cell_type": "code",
   "execution_count": 14,
   "id": "fbaaddd4",
   "metadata": {},
   "outputs": [],
   "source": [
    "#Typing a town name and hitting enter.\n",
    "\n",
    "searchbox.send_keys('Mataró')\n",
    "time.sleep(0.5)\n",
    "searchbox.send_keys(Keys.ENTER)"
   ]
  },
  {
   "cell_type": "code",
   "execution_count": 15,
   "id": "d5d34604",
   "metadata": {},
   "outputs": [],
   "source": [
    "#Accessing the routes displayed on the current map.\n",
    "\n",
    "routes = driver.find_elements_by_class_name('course-link')"
   ]
  },
  {
   "cell_type": "code",
   "execution_count": 16,
   "id": "07af6527",
   "metadata": {},
   "outputs": [
    {
     "data": {
      "text/plain": [
       "'https://connect.garmin.com/modern/course/15465472'"
      ]
     },
     "execution_count": 16,
     "metadata": {},
     "output_type": "execute_result"
    }
   ],
   "source": [
    "#Accessing a single route.\n",
    "\n",
    "routes[10].get_attribute('href')"
   ]
  },
  {
   "cell_type": "code",
   "execution_count": 17,
   "id": "b544c038",
   "metadata": {},
   "outputs": [],
   "source": [
    "#Storing all ride links on a list.\n",
    "\n",
    "route_list = []\n",
    "\n",
    "for i in routes:\n",
    "    link = i.get_attribute('href')\n",
    "    route_list.append(link)"
   ]
  },
  {
   "cell_type": "code",
   "execution_count": 19,
   "id": "a6545bd0",
   "metadata": {},
   "outputs": [
    {
     "data": {
      "text/plain": [
       "'https://connect.garmin.com/modern/course/53159249'"
      ]
     },
     "execution_count": 19,
     "metadata": {},
     "output_type": "execute_result"
    }
   ],
   "source": [
    "#Inspecting one element of the list.\n",
    "\n",
    "route_list[0]"
   ]
  },
  {
   "cell_type": "code",
   "execution_count": 20,
   "id": "911a944d",
   "metadata": {},
   "outputs": [],
   "source": [
    "#Let's open a single route link.\n",
    "\n",
    "driver.get(route_list[0])"
   ]
  },
  {
   "cell_type": "code",
   "execution_count": 22,
   "id": "66f8327f",
   "metadata": {},
   "outputs": [],
   "source": [
    "#Clicking on the dot button to show the download options.\n",
    "\n",
    "options = driver.find_element_by_xpath('//*[@id=\"main-card\"]/div/div[4]/div[1]/div/button')\n",
    "options.click()"
   ]
  },
  {
   "cell_type": "code",
   "execution_count": 23,
   "id": "cb741050",
   "metadata": {},
   "outputs": [],
   "source": [
    "#Locating the download button anc clicking. Success!\n",
    "\n",
    "download = driver.find_element_by_xpath('//*[@id=\"main-card\"]/div/div[4]/div[1]/div/ul/li[2]/a')\n",
    "download.click()"
   ]
  },
  {
   "cell_type": "markdown",
   "id": "700e3500",
   "metadata": {},
   "source": [
    "## Creating a function to download all routes in our list"
   ]
  },
  {
   "cell_type": "markdown",
   "id": "3d633091",
   "metadata": {},
   "source": [
    "Now that we've demonstrated the viability of downloading a *gpx* file, let's try to download all routes from our list until we hit a limit."
   ]
  },
  {
   "cell_type": "code",
   "execution_count": 25,
   "id": "8d8af25e",
   "metadata": {},
   "outputs": [
    {
     "name": "stdout",
     "output_type": "stream",
     "text": [
      "Seconds: 208\n"
     ]
    }
   ],
   "source": [
    "#We'll begin by creating a loop that performs the desired operation.\n",
    "\n",
    "start = time.time()\n",
    "\n",
    "def gpx_downloader(link):\n",
    "    try:\n",
    "        driver.get(link) #Accessing the route.\n",
    "        cond = False\n",
    "        while cond == False:\n",
    "            try:\n",
    "                options = driver.find_element_by_xpath('//*[@id=\"main-card\"]/div/div[4]/div[1]/div/button')\n",
    "                time.sleep(0.2)\n",
    "                cond = True\n",
    "                options.click()\n",
    "            except:\n",
    "                cond = False\n",
    "                time.sleep(0.3)\n",
    "        cond = False\n",
    "        while cond == False:\n",
    "            try:\n",
    "                download = driver.find_element_by_xpath('//*[@id=\"main-card\"]/div/div[4]/div[1]/div/ul/li[2]/a')\n",
    "                time.sleep(0.2)\n",
    "                cond = True\n",
    "                download.click()\n",
    "            except:\n",
    "                cond = False\n",
    "                time.sleep(0.3)\n",
    "    except:\n",
    "        time.sleep(5)\n",
    "        gpx_downloader(link)\n",
    "            \n",
    "for i in route_list:\n",
    "    gpx_downloader(i)\n",
    "    \n",
    "stop = time.time() \n",
    "duration = (stop - start)\n",
    "print('Seconds:', int(duration))"
   ]
  },
  {
   "cell_type": "code",
   "execution_count": 27,
   "id": "d5c004fd",
   "metadata": {},
   "outputs": [],
   "source": [
    "#Packing the loop into a function that we can use on lists of links.\n",
    "\n",
    "def downloader(link_list):\n",
    "    start = time.time()\n",
    "\n",
    "    def gpx_downloader(link):\n",
    "        try:\n",
    "            driver.get(link) #Accessing the route.\n",
    "            cond = False\n",
    "            while cond == False:\n",
    "                try:\n",
    "                    options = driver.find_element_by_xpath('//*[@id=\"main-card\"]/div/div[4]/div[1]/div/button')\n",
    "                    time.sleep(0.2)\n",
    "                    cond = True\n",
    "                    options.click()\n",
    "                except:\n",
    "                    cond = False\n",
    "                    time.sleep(0.3)\n",
    "            cond = False\n",
    "            while cond == False:\n",
    "                try:\n",
    "                    download = driver.find_element_by_xpath('//*[@id=\"main-card\"]/div/div[4]/div[1]/div/ul/li[2]/a')\n",
    "                    time.sleep(0.2)\n",
    "                    cond = True\n",
    "                    download.click()\n",
    "                except:\n",
    "                    cond = False\n",
    "                    time.sleep(0.3)\n",
    "        except:\n",
    "            time.sleep(5)\n",
    "            gpx_downloader(link)\n",
    "\n",
    "    for i in link_list:\n",
    "        gpx_downloader(i)\n",
    "\n",
    "    stop = time.time() \n",
    "    duration = (stop - start)\n",
    "    return print('Seconds:', int(duration))"
   ]
  },
  {
   "cell_type": "code",
   "execution_count": 28,
   "id": "99b755d9",
   "metadata": {},
   "outputs": [
    {
     "name": "stdout",
     "output_type": "stream",
     "text": [
      "Seconds: 267\n"
     ]
    }
   ],
   "source": [
    "#Testing the function.\n",
    "\n",
    "downloader(route_list)"
   ]
  },
  {
   "cell_type": "code",
   "execution_count": null,
   "id": "596243c3",
   "metadata": {},
   "outputs": [],
   "source": []
  }
 ],
 "metadata": {
  "kernelspec": {
   "display_name": "Python 3",
   "language": "python",
   "name": "python3"
  },
  "language_info": {
   "codemirror_mode": {
    "name": "ipython",
    "version": 3
   },
   "file_extension": ".py",
   "mimetype": "text/x-python",
   "name": "python",
   "nbconvert_exporter": "python",
   "pygments_lexer": "ipython3",
   "version": "3.8.8"
  },
  "toc": {
   "base_numbering": 1,
   "nav_menu": {},
   "number_sections": true,
   "sideBar": true,
   "skip_h1_title": false,
   "title_cell": "Table of Contents",
   "title_sidebar": "Contents",
   "toc_cell": false,
   "toc_position": {},
   "toc_section_display": true,
   "toc_window_display": false
  },
  "varInspector": {
   "cols": {
    "lenName": 16,
    "lenType": 16,
    "lenVar": 40
   },
   "kernels_config": {
    "python": {
     "delete_cmd_postfix": "",
     "delete_cmd_prefix": "del ",
     "library": "var_list.py",
     "varRefreshCmd": "print(var_dic_list())"
    },
    "r": {
     "delete_cmd_postfix": ") ",
     "delete_cmd_prefix": "rm(",
     "library": "var_list.r",
     "varRefreshCmd": "cat(var_dic_list()) "
    }
   },
   "types_to_exclude": [
    "module",
    "function",
    "builtin_function_or_method",
    "instance",
    "_Feature"
   ],
   "window_display": false
  }
 },
 "nbformat": 4,
 "nbformat_minor": 5
}
