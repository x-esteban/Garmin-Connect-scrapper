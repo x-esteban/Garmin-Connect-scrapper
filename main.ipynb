{
 "cells": [
  {
   "cell_type": "markdown",
   "id": "a01010b3",
   "metadata": {},
   "source": [
    "# Strava scraper"
   ]
  },
  {
   "cell_type": "markdown",
   "id": "a1ee9557",
   "metadata": {},
   "source": [
    "This is the first attempt at scraping all cycling routes posted on strava located in **Spain**. We only need to download the *gpx* files."
   ]
  },
  {
   "cell_type": "code",
   "execution_count": 2,
   "id": "b4edd223",
   "metadata": {},
   "outputs": [],
   "source": [
    "#Importing libraries.\n",
    "\n",
    "import pandas as pd\n",
    "import requests\n",
    "from selenium import webdriver\n",
    "from selenium.webdriver.common.keys import Keys\n",
    "from bs4 import BeautifulSoup\n",
    "import time"
   ]
  },
  {
   "cell_type": "code",
   "execution_count": 5,
   "id": "2cc0337d",
   "metadata": {},
   "outputs": [],
   "source": [
    "#Initializing our webdriver (Chrome).\n",
    "\n",
    "driver = webdriver.Chrome()"
   ]
  },
  {
   "cell_type": "code",
   "execution_count": 7,
   "id": "34e25a35",
   "metadata": {},
   "outputs": [],
   "source": [
    "#Entering a ride.\n",
    "\n",
    "driver.get('https://www.strava.com/activities/5798394213')"
   ]
  },
  {
   "cell_type": "code",
   "execution_count": 8,
   "id": "9cbc31a4",
   "metadata": {},
   "outputs": [],
   "source": [
    "#Clicking the three-dot menu.\n",
    "\n",
    "menu = driver.find_element_by_xpath('/html/body/div[2]/div[3]/nav/div/div')\n",
    "menu.click()"
   ]
  },
  {
   "cell_type": "code",
   "execution_count": 9,
   "id": "ab4188a9",
   "metadata": {},
   "outputs": [],
   "source": [
    "#Downloading the gpx.\n",
    "\n",
    "gpx = driver.find_element_by_xpath('/html/body/div[2]/div[3]/nav/div/div/ul/li[3]')\n",
    "gpx.click()"
   ]
  },
  {
   "cell_type": "code",
   "execution_count": 27,
   "id": "e91e0788",
   "metadata": {},
   "outputs": [
    {
     "data": {
      "text/plain": [
       "'Bicicleta'"
      ]
     },
     "execution_count": 27,
     "metadata": {},
     "output_type": "execute_result"
    }
   ],
   "source": [
    "#Obtaining the ride type. This will only match \"Bicicleta\" if it's a bike ride.\n",
    "\n",
    "ridetype = driver.find_element_by_xpath('//*[@id=\"heading\"]/header/h2/span').text[13:]\n",
    "ridetype"
   ]
  },
  {
   "cell_type": "code",
   "execution_count": 28,
   "id": "130cab3d",
   "metadata": {},
   "outputs": [
    {
     "data": {
      "text/plain": [
       "'Londres, Reino Unido'"
      ]
     },
     "execution_count": 28,
     "metadata": {},
     "output_type": "execute_result"
    }
   ],
   "source": [
    "#Obtaining the location:\n",
    "\n",
    "location = driver.find_element_by_xpath('//*[@id=\"heading\"]/div/div/div[1]/div/div/span').text\n",
    "location"
   ]
  },
  {
   "cell_type": "code",
   "execution_count": null,
   "id": "f6230a51",
   "metadata": {},
   "outputs": [],
   "source": [
    "#Naming schema for download links.\n",
    "\n",
    "'http://strava.com/activities/5798394100/export_gpx'"
   ]
  },
  {
   "cell_type": "markdown",
   "id": "d7a9e188",
   "metadata": {},
   "source": [
    "Names of spanish CCAAs as they are used on **Strava**:\n",
    "\n",
    "Asturias\n",
    "Cataluña\n",
    "Madrid\n",
    "Aragón"
   ]
  }
 ],
 "metadata": {
  "kernelspec": {
   "display_name": "Python 3",
   "language": "python",
   "name": "python3"
  },
  "language_info": {
   "codemirror_mode": {
    "name": "ipython",
    "version": 3
   },
   "file_extension": ".py",
   "mimetype": "text/x-python",
   "name": "python",
   "nbconvert_exporter": "python",
   "pygments_lexer": "ipython3",
   "version": "3.8.8"
  },
  "toc": {
   "base_numbering": 1,
   "nav_menu": {},
   "number_sections": true,
   "sideBar": true,
   "skip_h1_title": false,
   "title_cell": "Table of Contents",
   "title_sidebar": "Contents",
   "toc_cell": false,
   "toc_position": {},
   "toc_section_display": true,
   "toc_window_display": false
  },
  "varInspector": {
   "cols": {
    "lenName": 16,
    "lenType": 16,
    "lenVar": 40
   },
   "kernels_config": {
    "python": {
     "delete_cmd_postfix": "",
     "delete_cmd_prefix": "del ",
     "library": "var_list.py",
     "varRefreshCmd": "print(var_dic_list())"
    },
    "r": {
     "delete_cmd_postfix": ") ",
     "delete_cmd_prefix": "rm(",
     "library": "var_list.r",
     "varRefreshCmd": "cat(var_dic_list()) "
    }
   },
   "types_to_exclude": [
    "module",
    "function",
    "builtin_function_or_method",
    "instance",
    "_Feature"
   ],
   "window_display": false
  }
 },
 "nbformat": 4,
 "nbformat_minor": 5
}
