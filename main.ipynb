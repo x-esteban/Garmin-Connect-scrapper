{
 "cells": [
  {
   "cell_type": "markdown",
   "id": "34650af1",
   "metadata": {},
   "source": [
    "# Garmin Connect scraper"
   ]
  },
  {
   "cell_type": "markdown",
   "id": "f690a24e",
   "metadata": {},
   "source": [
    "**Garmin Connect** offers a map of user-submitted routes which we can easily filter. Those routes can be accessed by searching for the location (town name). Let's try downloading the *gpx* files for some routes to see if **Garmin** has implemented scraping protection on its website."
   ]
  },
  {
   "cell_type": "code",
   "execution_count": 2,
   "id": "929b3117",
   "metadata": {},
   "outputs": [],
   "source": [
    "#Initializing our webdriver (Chrome).\n",
    "\n",
    "driver = webdriver.Chrome()"
   ]
  },
  {
   "cell_type": "code",
   "execution_count": 3,
   "id": "7fabcdfc",
   "metadata": {},
   "outputs": [],
   "source": [
    "#Accessing Garmin Connect. At this point we will have to login manually.\n",
    "\n",
    "driver.get('https://connect.garmin.com/modern/')"
   ]
  },
  {
   "cell_type": "code",
   "execution_count": 41,
   "id": "aa0f36e4",
   "metadata": {},
   "outputs": [],
   "source": [
    "#Accessing the activity map.\n",
    "\n",
    "driver.get('https://connect.garmin.com/modern/courses')"
   ]
  },
  {
   "cell_type": "markdown",
   "id": "8414f1be",
   "metadata": {},
   "source": [
    "At this stage I'm setting the activity filters manually, since we're only testing the viability of large-scale *gpx* scraping."
   ]
  },
  {
   "cell_type": "code",
   "execution_count": 13,
   "id": "294701cc",
   "metadata": {},
   "outputs": [],
   "source": [
    "#Clicking on the search box.\n",
    "\n",
    "searchbox = driver.find_element_by_xpath('//*[@id=\"pageContainer\"]/div/div[2]/div[1]/div[1]/input')\n",
    "searchbox.click()"
   ]
  },
  {
   "cell_type": "code",
   "execution_count": 14,
   "id": "c0b62e72",
   "metadata": {},
   "outputs": [],
   "source": [
    "#Typing a town name and hitting enter.\n",
    "\n",
    "searchbox.send_keys('Mataró')\n",
    "time.sleep(0.5)\n",
    "searchbox.send_keys(Keys.ENTER)"
   ]
  },
  {
   "cell_type": "code",
   "execution_count": 15,
   "id": "d5d34604",
   "metadata": {},
   "outputs": [],
   "source": [
    "#Accessing the routes displayed on the current map.\n",
    "\n",
    "routes = driver.find_elements_by_class_name('course-link')"
   ]
  },
  {
   "cell_type": "code",
   "execution_count": 16,
   "id": "07af6527",
   "metadata": {},
   "outputs": [
    {
     "data": {
      "text/plain": [
       "'https://connect.garmin.com/modern/course/15465472'"
      ]
     },
     "execution_count": 16,
     "metadata": {},
     "output_type": "execute_result"
    }
   ],
   "source": [
    "#Accessing a single route.\n",
    "\n",
    "routes[10].get_attribute('href')"
   ]
  },
  {
   "cell_type": "code",
   "execution_count": 17,
   "id": "b544c038",
   "metadata": {},
   "outputs": [],
   "source": [
    "#Storing all ride links on a list.\n",
    "\n",
    "route_list = []\n",
    "\n",
    "for i in routes:\n",
    "    link = i.get_attribute('href')\n",
    "    route_list.append(link)"
   ]
  },
  {
   "cell_type": "code",
   "execution_count": 19,
   "id": "a6545bd0",
   "metadata": {},
   "outputs": [
    {
     "data": {
      "text/plain": [
       "'https://connect.garmin.com/modern/course/53159249'"
      ]
     },
     "execution_count": 19,
     "metadata": {},
     "output_type": "execute_result"
    }
   ],
   "source": [
    "#Inspecting one element of the list.\n",
    "\n",
    "route_list[0]"
   ]
  },
  {
   "cell_type": "code",
   "execution_count": 20,
   "id": "911a944d",
   "metadata": {},
   "outputs": [],
   "source": [
    "#Let's open a single route link.\n",
    "\n",
    "driver.get(route_list[0])"
   ]
  },
  {
   "cell_type": "code",
   "execution_count": 22,
   "id": "66f8327f",
   "metadata": {},
   "outputs": [],
   "source": [
    "#Clicking on the dot button to show the download options.\n",
    "\n",
    "options = driver.find_element_by_xpath('//*[@id=\"main-card\"]/div/div[4]/div[1]/div/button')\n",
    "options.click()"
   ]
  },
  {
   "cell_type": "code",
   "execution_count": 23,
   "id": "cb741050",
   "metadata": {},
   "outputs": [],
   "source": [
    "#Locating the download button anc clicking. Success!\n",
    "\n",
    "download = driver.find_element_by_xpath('//*[@id=\"main-card\"]/div/div[4]/div[1]/div/ul/li[2]/a')\n",
    "download.click()"
   ]
  },
  {
   "cell_type": "markdown",
   "id": "700e3500",
   "metadata": {},
   "source": [
    "## Creating a function to download all routes in our list"
   ]
  },
  {
   "cell_type": "markdown",
   "id": "3d633091",
   "metadata": {},
   "source": [
    "Now that we've demonstrated the viability of downloading a *gpx* file, let's try to download all routes from our list until we hit a limit."
   ]
  },
  {
   "cell_type": "code",
   "execution_count": 25,
   "id": "8d8af25e",
   "metadata": {},
   "outputs": [
    {
     "name": "stdout",
     "output_type": "stream",
     "text": [
      "Seconds: 208\n"
     ]
    }
   ],
   "source": [
    "#We'll begin by creating a loop that performs the desired operation.\n",
    "\n",
    "start = time.time()\n",
    "\n",
    "def gpx_downloader(link):\n",
    "    try:\n",
    "        driver.get(link) #Accessing the route.\n",
    "        cond = False\n",
    "        while cond == False:\n",
    "            try:\n",
    "                options = driver.find_element_by_xpath('//*[@id=\"main-card\"]/div/div[4]/div[1]/div/button')\n",
    "                time.sleep(0.2)\n",
    "                cond = True\n",
    "                options.click()\n",
    "            except:\n",
    "                cond = False\n",
    "                time.sleep(0.3)\n",
    "        cond = False\n",
    "        while cond == False:\n",
    "            try:\n",
    "                download = driver.find_element_by_xpath('//*[@id=\"main-card\"]/div/div[4]/div[1]/div/ul/li[2]/a')\n",
    "                time.sleep(0.2)\n",
    "                cond = True\n",
    "                download.click()\n",
    "            except:\n",
    "                cond = False\n",
    "                time.sleep(0.3)\n",
    "    except:\n",
    "        time.sleep(5)\n",
    "        gpx_downloader(link)\n",
    "            \n",
    "for i in route_list:\n",
    "    gpx_downloader(i)\n",
    "    \n",
    "stop = time.time() \n",
    "duration = (stop - start)\n",
    "print('Seconds:', int(duration))"
   ]
  },
  {
   "cell_type": "code",
   "execution_count": 27,
   "id": "d5c004fd",
   "metadata": {},
   "outputs": [],
   "source": [
    "#Packing the loop into a function that we can use on lists of links.\n",
    "\n",
    "def downloader(link_list):\n",
    "    start = time.time()\n",
    "\n",
    "    def gpx_downloader(link):\n",
    "        try:\n",
    "            driver.get(link) #Accessing the route.\n",
    "            cond = False\n",
    "            while cond == False:\n",
    "                try:\n",
    "                    options = driver.find_element_by_xpath('//*[@id=\"main-card\"]/div/div[4]/div[1]/div/button')\n",
    "                    time.sleep(0.2)\n",
    "                    cond = True\n",
    "                    options.click()\n",
    "                except:\n",
    "                    cond = False\n",
    "                    time.sleep(0.3)\n",
    "            cond = False\n",
    "            while cond == False:\n",
    "                try:\n",
    "                    download = driver.find_element_by_xpath('//*[@id=\"main-card\"]/div/div[4]/div[1]/div/ul/li[2]/a')\n",
    "                    time.sleep(0.2)\n",
    "                    cond = True\n",
    "                    download.click()\n",
    "                except:\n",
    "                    cond = False\n",
    "                    time.sleep(0.3)\n",
    "        except:\n",
    "            time.sleep(5)\n",
    "            gpx_downloader(link)\n",
    "\n",
    "    for i in link_list:\n",
    "        gpx_downloader(i)\n",
    "\n",
    "    stop = time.time() \n",
    "    duration = (stop - start)\n",
    "    return print('Seconds:', int(duration))"
   ]
  },
  {
   "cell_type": "code",
   "execution_count": 28,
   "id": "50c10c3b",
   "metadata": {},
   "outputs": [
    {
     "name": "stdout",
     "output_type": "stream",
     "text": [
      "Seconds: 267\n"
     ]
    }
   ],
   "source": [
    "#Testing the function.\n",
    "\n",
    "downloader(route_list)"
   ]
  },
  {
   "cell_type": "markdown",
   "id": "766cc64d",
   "metadata": {},
   "source": [
    "## Creating a function that grabs all route links from a destination"
   ]
  },
  {
   "cell_type": "markdown",
   "id": "0aff6c06",
   "metadata": {},
   "source": [
    "Now that we know how to download all *gpx* files from a list of route links we need a way to obtain all route links of a given destination (town)."
   ]
  },
  {
   "cell_type": "markdown",
   "id": "980e0016",
   "metadata": {},
   "source": [
    "### Locating elements to navigate the map"
   ]
  },
  {
   "cell_type": "code",
   "execution_count": 29,
   "id": "815d3748",
   "metadata": {},
   "outputs": [],
   "source": [
    "#Increase zoom:\n",
    "\n",
    "more_zoom = driver.find_element_by_xpath('//*[@id=\"pageContainer\"]/div/div[2]/div[2]/a[1]')"
   ]
  },
  {
   "cell_type": "code",
   "execution_count": null,
   "id": "4399596e",
   "metadata": {},
   "outputs": [],
   "source": [
    "#Increase zoom:\n",
    "\n",
    "more_zoom = driver.find_element_by_xpath('//*[@id=\"pageContainer\"]/div/div[2]/div[2]/a[1]')"
   ]
  },
  {
   "cell_type": "code",
   "execution_count": null,
   "id": "c7afb491",
   "metadata": {},
   "outputs": [],
   "source": []
  },
  {
   "cell_type": "code",
   "execution_count": null,
   "id": "fedca6a9",
   "metadata": {},
   "outputs": [],
   "source": []
  },
  {
   "cell_type": "code",
   "execution_count": null,
   "id": "effd1ba1",
   "metadata": {},
   "outputs": [],
   "source": []
  },
  {
   "cell_type": "code",
   "execution_count": null,
   "id": "41acbad8",
   "metadata": {},
   "outputs": [],
   "source": []
  },
  {
   "cell_type": "code",
   "execution_count": 45,
   "id": "e3c1d348",
   "metadata": {},
   "outputs": [],
   "source": [
    "searchbox = driver.find_element_by_xpath('//*[@id=\"pageContainer\"]/div/div[2]/div[1]/div[1]/input')\n",
    "searchbox.click()\n",
    "searchbox.send_keys('Mataró')\n",
    "time.sleep(0.5)\n",
    "searchbox.send_keys(Keys.ENTER)\n",
    "time.sleep(0.5)\n",
    "more_zoom = driver.find_element_by_xpath('//*[@id=\"pageContainer\"]/div/div[2]/div[2]/a[1]')\n",
    "more_zoom.click()\n",
    "time.sleep(0.3)\n",
    "more_zoom.click()"
   ]
  },
  {
   "cell_type": "code",
   "execution_count": 46,
   "id": "3fafef7f",
   "metadata": {},
   "outputs": [],
   "source": [
    "more_zoom = driver.find_element_by_xpath('//*[@id=\"pageContainer\"]/div/div[2]/div[2]/a[1]')\n",
    "more_zoom.click()\n",
    "time.sleep(0.3)\n",
    "more_zoom.click()"
   ]
  },
  {
   "cell_type": "code",
   "execution_count": 59,
   "id": "fc001f45",
   "metadata": {},
   "outputs": [],
   "source": [
    "mapa = driver.find_element_by_xpath('//*[@id=\"leafletMap_395\"]')\n",
    "mapa.click()\n",
    "time.sleep(0.5)\n",
    "mapa.send_keys(Keys.ARROW_DOWN)\n",
    "time.sleep(0.3)\n",
    "mapa.send_keys(Keys.ARROW_DOWN)\n",
    "time.sleep(0.3)\n",
    "mapa.send_keys(Keys.ARROW_DOWN)\n",
    "time.sleep(0.3)\n",
    "mapa.send_keys(Keys.ARROW_DOWN)\n",
    "time.sleep(0.3)\n",
    "mapa.send_keys(Keys.ARROW_DOWN)\n",
    "time.sleep(0.3)\n",
    "mapa.send_keys(Keys.ARROW_DOWN)\n",
    "time.sleep(0.3)\n",
    "mapa.send_keys(Keys.ARROW_DOWN)\n",
    "time.sleep(0.3)\n",
    "mapa.send_keys(Keys.ARROW_DOWN)\n",
    "time.sleep(0.3)\n",
    "mapa.send_keys(Keys.ARROW_DOWN)\n",
    "time.sleep(0.3)\n",
    "mapa.send_keys(Keys.ARROW_DOWN)\n",
    "time.sleep(0.3)"
   ]
  },
  {
   "cell_type": "code",
   "execution_count": 57,
   "id": "2618adb9",
   "metadata": {},
   "outputs": [],
   "source": [
    "mapa.send_keys(Keys.ARROW_DOWN)"
   ]
  },
  {
   "cell_type": "markdown",
   "id": "d1e226a5",
   "metadata": {},
   "source": [
    "User: cifyamuydu@biyac.com\n",
    "Pass: 123456aA"
   ]
  }
 ],
 "metadata": {
  "kernelspec": {
   "display_name": "Python 3",
   "language": "python",
   "name": "python3"
  },
  "language_info": {
   "codemirror_mode": {
    "name": "ipython",
    "version": 3
   },
   "file_extension": ".py",
   "mimetype": "text/x-python",
   "name": "python",
   "nbconvert_exporter": "python",
   "pygments_lexer": "ipython3",
   "version": "3.8.8"
  },
  "toc": {
   "base_numbering": 1,
   "nav_menu": {},
   "number_sections": true,
   "sideBar": true,
   "skip_h1_title": false,
   "title_cell": "Table of Contents",
   "title_sidebar": "Contents",
   "toc_cell": false,
   "toc_position": {},
   "toc_section_display": true,
   "toc_window_display": false
  },
  "varInspector": {
   "cols": {
    "lenName": 16,
    "lenType": 16,
    "lenVar": 40
   },
   "kernels_config": {
    "python": {
     "delete_cmd_postfix": "",
     "delete_cmd_prefix": "del ",
     "library": "var_list.py",
     "varRefreshCmd": "print(var_dic_list())"
    },
    "r": {
     "delete_cmd_postfix": ") ",
     "delete_cmd_prefix": "rm(",
     "library": "var_list.r",
     "varRefreshCmd": "cat(var_dic_list()) "
    }
   },
   "types_to_exclude": [
    "module",
    "function",
    "builtin_function_or_method",
    "instance",
    "_Feature"
   ],
   "window_display": false
  }
 },
 "nbformat": 4,
 "nbformat_minor": 5
}
