{
 "cells": [
  {
   "cell_type": "markdown",
   "id": "f0ec0900",
   "metadata": {},
   "source": [
    "# Strava scraper"
   ]
  },
  {
   "cell_type": "markdown",
   "id": "2ec06ad4",
   "metadata": {},
   "source": [
    "This is the first attempt at scraping all cycling routes posted on strava located in **Spain**. We only need to download the *gpx* files."
   ]
  },
  {
   "cell_type": "code",
   "execution_count": 2,
   "id": "451cd0ca",
   "metadata": {},
   "outputs": [],
   "source": [
    "#Importing libraries.\n",
    "\n",
    "import pandas as pd\n",
    "import requests\n",
    "from selenium import webdriver\n",
    "from selenium.webdriver.common.keys import Keys\n",
    "from bs4 import BeautifulSoup\n",
    "import time"
   ]
  },
  {
   "cell_type": "code",
   "execution_count": 5,
   "id": "99b81dfb",
   "metadata": {},
   "outputs": [],
   "source": [
    "#Initializing our webdriver (Chrome).\n",
    "\n",
    "driver = webdriver.Chrome()"
   ]
  },
  {
   "cell_type": "code",
   "execution_count": 44,
   "id": "ac8d996b",
   "metadata": {},
   "outputs": [],
   "source": [
    "#Entering a ride.\n",
    "\n",
    "driver.get('https://www.strava.com/activities/5798394213')"
   ]
  },
  {
   "cell_type": "code",
   "execution_count": 8,
   "id": "ce43d23e",
   "metadata": {},
   "outputs": [],
   "source": [
    "#Clicking the three-dot menu.\n",
    "\n",
    "menu = driver.find_element_by_xpath('/html/body/div[2]/div[3]/nav/div/div')\n",
    "menu.click()"
   ]
  },
  {
   "cell_type": "code",
   "execution_count": 9,
   "id": "97a55181",
   "metadata": {},
   "outputs": [],
   "source": [
    "#Downloading the gpx.\n",
    "\n",
    "gpx = driver.find_element_by_xpath('/html/body/div[2]/div[3]/nav/div/div/ul/li[3]')\n",
    "gpx.click()"
   ]
  },
  {
   "cell_type": "code",
   "execution_count": 39,
   "id": "b372b425",
   "metadata": {},
   "outputs": [
    {
     "data": {
      "text/plain": [
       "'Bicicleta'"
      ]
     },
     "execution_count": 39,
     "metadata": {},
     "output_type": "execute_result"
    }
   ],
   "source": [
    "#Obtaining the ride type. This will only match \"Bicicleta\" if it's a bike ride.\n",
    "\n",
    "ridetype = driver.find_element_by_xpath('//*[@id=\"heading\"]/header/h2/span').text[-9:]\n",
    "ridetype"
   ]
  },
  {
   "cell_type": "code",
   "execution_count": 28,
   "id": "65444a6e",
   "metadata": {},
   "outputs": [
    {
     "data": {
      "text/plain": [
       "'Londres, Reino Unido'"
      ]
     },
     "execution_count": 28,
     "metadata": {},
     "output_type": "execute_result"
    }
   ],
   "source": [
    "#Obtaining the location:\n",
    "\n",
    "location = driver.find_element_by_xpath('//*[@id=\"heading\"]/div/div/div[1]/div/div/span').text\n",
    "location"
   ]
  },
  {
   "cell_type": "code",
   "execution_count": null,
   "id": "639397cc",
   "metadata": {},
   "outputs": [],
   "source": [
    "#Naming schema for download links.\n",
    "\n",
    "'http://strava.com/activities/5798394100/export_gpx'"
   ]
  },
  {
   "cell_type": "markdown",
   "id": "c2008af6",
   "metadata": {},
   "source": [
    "Names of spanish CCAAs (or other territories) as they are used on **Strava**:\n",
    "\n",
    "España\n",
    "Asturias\n",
    "Cataluña\n",
    "Madrid\n",
    "Aragón\n",
    "La Rioja\n"
   ]
  },
  {
   "cell_type": "code",
   "execution_count": 84,
   "id": "4f0037a3",
   "metadata": {},
   "outputs": [],
   "source": [
    "#Making a list of the names we want to detect:\n",
    "\n",
    "names = ['España', 'Asturias', 'Cataluña', 'Madrid', 'Aragón', 'La Rioja', 'Andalucía', 'Comunidad Valenciana', 'Andorra']"
   ]
  },
  {
   "cell_type": "code",
   "execution_count": 82,
   "id": "143e1be0",
   "metadata": {},
   "outputs": [
    {
     "name": "stdout",
     "output_type": "stream",
     "text": [
      "Minutes: 8.989719223976135\n"
     ]
    }
   ],
   "source": [
    "start = time.time()\n",
    "\n",
    "for i in range(10):\n",
    "    try:\n",
    "        base_url = 'https://www.strava.com/activities/'\n",
    "        base_number = 3981642097\n",
    "        url = base_url + str((base_number + i))\n",
    "        time.sleep(0.1)\n",
    "        driver.get(url)\n",
    "        time.sleep(0.1)\n",
    "        if driver.find_element_by_xpath('//*[@id=\"heading\"]/header/h2/span').text[-9:] == 'Bicicleta':\n",
    "            for i in names:\n",
    "                if i in driver.find_element_by_xpath('//*[@id=\"heading\"]/div/div/div[1]/div/div/span').text:\n",
    "                    gpx_url = url + '/export_gpx'\n",
    "                    driver.get(gpx_url)\n",
    "                    time.sleep(0.1)\n",
    "                else:\n",
    "                    pass\n",
    "        else:\n",
    "            pass\n",
    "    except:\n",
    "        pass\n",
    "    \n",
    "stop = time.time() \n",
    "duration = (stop - start) / 60\n",
    "print('Minutes:', duration)"
   ]
  },
  {
   "cell_type": "code",
   "execution_count": null,
   "id": "c96470f6",
   "metadata": {},
   "outputs": [],
   "source": []
  }
 ],
 "metadata": {
  "kernelspec": {
   "display_name": "Python 3",
   "language": "python",
   "name": "python3"
  },
  "language_info": {
   "codemirror_mode": {
    "name": "ipython",
    "version": 3
   },
   "file_extension": ".py",
   "mimetype": "text/x-python",
   "name": "python",
   "nbconvert_exporter": "python",
   "pygments_lexer": "ipython3",
   "version": "3.8.8"
  },
  "toc": {
   "base_numbering": 1,
   "nav_menu": {},
   "number_sections": true,
   "sideBar": true,
   "skip_h1_title": false,
   "title_cell": "Table of Contents",
   "title_sidebar": "Contents",
   "toc_cell": false,
   "toc_position": {},
   "toc_section_display": true,
   "toc_window_display": false
  },
  "varInspector": {
   "cols": {
    "lenName": 16,
    "lenType": 16,
    "lenVar": 40
   },
   "kernels_config": {
    "python": {
     "delete_cmd_postfix": "",
     "delete_cmd_prefix": "del ",
     "library": "var_list.py",
     "varRefreshCmd": "print(var_dic_list())"
    },
    "r": {
     "delete_cmd_postfix": ") ",
     "delete_cmd_prefix": "rm(",
     "library": "var_list.r",
     "varRefreshCmd": "cat(var_dic_list()) "
    }
   },
   "types_to_exclude": [
    "module",
    "function",
    "builtin_function_or_method",
    "instance",
    "_Feature"
   ],
   "window_display": false
  }
 },
 "nbformat": 4,
 "nbformat_minor": 5
}
